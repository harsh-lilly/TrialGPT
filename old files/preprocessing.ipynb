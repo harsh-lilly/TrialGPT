{
 "cells": [
  {
   "cell_type": "code",
   "execution_count": 1,
   "id": "273802d0-b1fe-4228-aed1-cf877a0b5b89",
   "metadata": {},
   "outputs": [
    {
     "data": {
      "text/html": [
       "<div>\n",
       "<style scoped>\n",
       "    .dataframe tbody tr th:only-of-type {\n",
       "        vertical-align: middle;\n",
       "    }\n",
       "\n",
       "    .dataframe tbody tr th {\n",
       "        vertical-align: top;\n",
       "    }\n",
       "\n",
       "    .dataframe thead th {\n",
       "        text-align: right;\n",
       "    }\n",
       "</style>\n",
       "<table border=\"1\" class=\"dataframe\">\n",
       "  <thead>\n",
       "    <tr style=\"text-align: right;\">\n",
       "      <th></th>\n",
       "      <th>study_alias</th>\n",
       "      <th>study_desc</th>\n",
       "      <th>nct_number</th>\n",
       "    </tr>\n",
       "  </thead>\n",
       "  <tbody>\n",
       "    <tr>\n",
       "      <th>0</th>\n",
       "      <td>I8F-MC-GPHM</td>\n",
       "      <td>Weight Loss Maintenance after Intensive Lifest...</td>\n",
       "      <td>04657016</td>\n",
       "    </tr>\n",
       "    <tr>\n",
       "      <th>1</th>\n",
       "      <td>I3Y-MC-JPCW</td>\n",
       "      <td>Ph III - Abemaciclib - Adjuvant</td>\n",
       "      <td>04752332</td>\n",
       "    </tr>\n",
       "    <tr>\n",
       "      <th>2</th>\n",
       "      <td>I6T-MC-AMBT</td>\n",
       "      <td>Miri Reformulation PK (BE) HV</td>\n",
       "      <td>05515601</td>\n",
       "    </tr>\n",
       "    <tr>\n",
       "      <th>3</th>\n",
       "      <td>I5T-MC-AACQ</td>\n",
       "      <td>Multi-center, randomized, double-blind phase 3...</td>\n",
       "      <td>05738486</td>\n",
       "    </tr>\n",
       "    <tr>\n",
       "      <th>4</th>\n",
       "      <td>J1I-MC-GZBM</td>\n",
       "      <td>CWM3 - High-Risk Obesity Pts Eligible for Bari...</td>\n",
       "      <td>05882045</td>\n",
       "    </tr>\n",
       "  </tbody>\n",
       "</table>\n",
       "</div>"
      ],
      "text/plain": [
       "   study_alias                                         study_desc nct_number\n",
       "0  I8F-MC-GPHM  Weight Loss Maintenance after Intensive Lifest...   04657016\n",
       "1  I3Y-MC-JPCW                    Ph III - Abemaciclib - Adjuvant   04752332\n",
       "2  I6T-MC-AMBT                      Miri Reformulation PK (BE) HV   05515601\n",
       "3  I5T-MC-AACQ  Multi-center, randomized, double-blind phase 3...   05738486\n",
       "4  J1I-MC-GZBM  CWM3 - High-Risk Obesity Pts Eligible for Bari...   05882045"
      ]
     },
     "execution_count": 1,
     "metadata": {},
     "output_type": "execute_result"
    }
   ],
   "source": [
    "import pandas as pd\n",
    "\n",
    "data = pd.read_csv('Study Alias to NCT Mapping.csv')\n",
    "\n",
    "\n"
   ]
  },
  {
   "cell_type": "code",
   "execution_count": 2,
   "id": "fd92cb86",
   "metadata": {},
   "outputs": [
    {
     "data": {
      "text/html": [
       "<div>\n",
       "<style scoped>\n",
       "    .dataframe tbody tr th:only-of-type {\n",
       "        vertical-align: middle;\n",
       "    }\n",
       "\n",
       "    .dataframe tbody tr th {\n",
       "        vertical-align: top;\n",
       "    }\n",
       "\n",
       "    .dataframe thead th {\n",
       "        text-align: right;\n",
       "    }\n",
       "</style>\n",
       "<table border=\"1\" class=\"dataframe\">\n",
       "  <thead>\n",
       "    <tr style=\"text-align: right;\">\n",
       "      <th></th>\n",
       "      <th>study_alias</th>\n",
       "      <th>study_desc</th>\n",
       "      <th>nct_number</th>\n",
       "    </tr>\n",
       "  </thead>\n",
       "  <tbody>\n",
       "    <tr>\n",
       "      <th>0</th>\n",
       "      <td>False</td>\n",
       "      <td>False</td>\n",
       "      <td>False</td>\n",
       "    </tr>\n",
       "    <tr>\n",
       "      <th>1</th>\n",
       "      <td>False</td>\n",
       "      <td>False</td>\n",
       "      <td>False</td>\n",
       "    </tr>\n",
       "    <tr>\n",
       "      <th>2</th>\n",
       "      <td>False</td>\n",
       "      <td>False</td>\n",
       "      <td>False</td>\n",
       "    </tr>\n",
       "    <tr>\n",
       "      <th>3</th>\n",
       "      <td>False</td>\n",
       "      <td>False</td>\n",
       "      <td>False</td>\n",
       "    </tr>\n",
       "    <tr>\n",
       "      <th>4</th>\n",
       "      <td>False</td>\n",
       "      <td>False</td>\n",
       "      <td>False</td>\n",
       "    </tr>\n",
       "    <tr>\n",
       "      <th>...</th>\n",
       "      <td>...</td>\n",
       "      <td>...</td>\n",
       "      <td>...</td>\n",
       "    </tr>\n",
       "    <tr>\n",
       "      <th>19321</th>\n",
       "      <td>False</td>\n",
       "      <td>False</td>\n",
       "      <td>True</td>\n",
       "    </tr>\n",
       "    <tr>\n",
       "      <th>19322</th>\n",
       "      <td>False</td>\n",
       "      <td>False</td>\n",
       "      <td>True</td>\n",
       "    </tr>\n",
       "    <tr>\n",
       "      <th>19323</th>\n",
       "      <td>False</td>\n",
       "      <td>False</td>\n",
       "      <td>True</td>\n",
       "    </tr>\n",
       "    <tr>\n",
       "      <th>19324</th>\n",
       "      <td>False</td>\n",
       "      <td>False</td>\n",
       "      <td>True</td>\n",
       "    </tr>\n",
       "    <tr>\n",
       "      <th>19325</th>\n",
       "      <td>False</td>\n",
       "      <td>False</td>\n",
       "      <td>True</td>\n",
       "    </tr>\n",
       "  </tbody>\n",
       "</table>\n",
       "<p>19326 rows × 3 columns</p>\n",
       "</div>"
      ],
      "text/plain": [
       "       study_alias  study_desc  nct_number\n",
       "0            False       False       False\n",
       "1            False       False       False\n",
       "2            False       False       False\n",
       "3            False       False       False\n",
       "4            False       False       False\n",
       "...            ...         ...         ...\n",
       "19321        False       False        True\n",
       "19322        False       False        True\n",
       "19323        False       False        True\n",
       "19324        False       False        True\n",
       "19325        False       False        True\n",
       "\n",
       "[19326 rows x 3 columns]"
      ]
     },
     "execution_count": 2,
     "metadata": {},
     "output_type": "execute_result"
    }
   ],
   "source": [
    "data['nct_number'].isnull()\n"
   ]
  },
  {
   "cell_type": "code",
   "execution_count": 12,
   "id": "b7397c13",
   "metadata": {},
   "outputs": [
    {
     "data": {
      "text/plain": [
       "0        False\n",
       "1        False\n",
       "2        False\n",
       "3        False\n",
       "4        False\n",
       "         ...  \n",
       "19321     True\n",
       "19322     True\n",
       "19323     True\n",
       "19324     True\n",
       "19325     True\n",
       "Name: nct_number, Length: 19326, dtype: bool"
      ]
     },
     "execution_count": 12,
     "metadata": {},
     "output_type": "execute_result"
    }
   ],
   "source": [
    "data['nct_number'].isnull()"
   ]
  },
  {
   "cell_type": "code",
   "execution_count": 10,
   "id": "ce9d6fef",
   "metadata": {},
   "outputs": [
    {
     "data": {
      "text/plain": [
       "np.int64(69)"
      ]
     },
     "execution_count": 10,
     "metadata": {},
     "output_type": "execute_result"
    }
   ],
   "source": [
    "data['nct_number'].count()\n"
   ]
  },
  {
   "cell_type": "code",
   "execution_count": 7,
   "id": "67fca50b",
   "metadata": {},
   "outputs": [
    {
     "data": {
      "text/plain": [
       "19326"
      ]
     },
     "execution_count": 7,
     "metadata": {},
     "output_type": "execute_result"
    }
   ],
   "source": [
    "data['nct_number'].size"
   ]
  },
  {
   "cell_type": "code",
   "execution_count": 9,
   "id": "44b33a4b",
   "metadata": {},
   "outputs": [
    {
     "name": "stdout",
     "output_type": "stream",
     "text": [
      "0.3570319776466936\n"
     ]
    }
   ],
   "source": [
    "percentage_of_missing =  (data['nct_number'].count() / data['nct_number'].size) * 100\n",
    "print(percentage_of_missing)\n"
   ]
  },
  {
   "cell_type": "markdown",
   "id": "ad07a6fe",
   "metadata": {},
   "source": [
    "### Dataset has only 0.3 % NCT numbers. "
   ]
  },
  {
   "cell_type": "code",
   "execution_count": null,
   "id": "6a8b5090",
   "metadata": {},
   "outputs": [],
   "source": []
  },
  {
   "cell_type": "code",
   "execution_count": null,
   "id": "bf8333e4",
   "metadata": {},
   "outputs": [],
   "source": []
  }
 ],
 "metadata": {
  "kernelspec": {
   "display_name": "venv",
   "language": "python",
   "name": "python3"
  },
  "language_info": {
   "codemirror_mode": {
    "name": "ipython",
    "version": 3
   },
   "file_extension": ".py",
   "mimetype": "text/x-python",
   "name": "python",
   "nbconvert_exporter": "python",
   "pygments_lexer": "ipython3",
   "version": "3.10.10"
  }
 },
 "nbformat": 4,
 "nbformat_minor": 5
}
